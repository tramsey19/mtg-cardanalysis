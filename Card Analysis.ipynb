{
 "cells": [
  {
   "cell_type": "code",
   "execution_count": 16,
   "metadata": {},
   "outputs": [],
   "source": [
    "from numpy import array\n",
    "from keras.preprocessing.text import one_hot\n",
    "from keras.preprocessing.sequence import pad_sequences\n",
    "from keras.models import Sequential\n",
    "from keras.layers import Dense, Flatten\n",
    "import numpy as np\n",
    "import pandas as pd\n",
    "from sklearn.model_selection import train_test_split\n",
    "from keras import models, layers\n",
    "from keras.callbacks import EarlyStopping\n",
    "from keras import backend\n",
    "from keras.layers.normalization import BatchNormalization\n",
    "from keras import regularizers\n",
    "import matplotlib.pyplot as plt\n",
    "from keras.layers.embeddings import Embedding"
   ]
  },
  {
   "cell_type": "code",
   "execution_count": 8,
   "metadata": {},
   "outputs": [],
   "source": [
    "df = pd.read_json('rulings.json')\n",
    "dfabilities = pd.read_csv('abilities',header=None,names=['ability','rank'])"
   ]
  },
  {
   "cell_type": "code",
   "execution_count": 12,
   "metadata": {},
   "outputs": [],
   "source": [
    "# Create ability score column\n",
    "df['ability_score'] = 0\n",
    "for dfindex,dfrows in df.iterrows():\n",
    "    ability_sum = 0\n",
    "    for abilindex,abilrows in dfabilities.iterrows():\n",
    "        try:\n",
    "            if dfrows['oracle_text'].find(abilrows['ability']) > -1:\n",
    "                ability_sum += abilrows['rank']\n",
    "        except:\n",
    "            continue\n",
    "    df.at[dfindex,'ability_score'] = ability_sum"
   ]
  },
  {
   "cell_type": "code",
   "execution_count": 9,
   "metadata": {},
   "outputs": [],
   "source": [
    "# Create an ability index\n",
    "ability_index = {}\n",
    "count = 0\n",
    "for index,rows in df.iterrows():\n",
    "    try:\n",
    "        words = rows['oracle_text'].lower().replace(rows['name'].lower(),'this object').split()\n",
    "        for a in words:\n",
    "            a = ''.join(b for b in a if b not in ['.','(',')'])\n",
    "            if a not in ability_index:\n",
    "                count += 1\n",
    "                ability_index[a] = count\n",
    "            else:\n",
    "                continue\n",
    "    except:\n",
    "        continue"
   ]
  },
  {
   "cell_type": "code",
   "execution_count": 19,
   "metadata": {},
   "outputs": [],
   "source": [
    "# Create train/test data\n",
    "train_data = []\n",
    "train_labels = []\n",
    "test_data = []\n",
    "test_labels = []\n",
    "df = df.fillna(0)\n",
    "for index,rows in df.iterrows():\n",
    "    try:\n",
    "        words = rows['oracle_text'].lower().replace(rows['name'].lower(),'this object').split()\n",
    "        indices = []\n",
    "        for a in words:\n",
    "            a = ''.join(b for b in a if b not in ['.','(',')'])\n",
    "            indices.append(ability_index[a])\n",
    "        # Split train/test into 80/20\n",
    "        if len(train_data) <= len(df)*.8:\n",
    "            train_data.append(indices)\n",
    "            train_labels.append(rows['ability_score'])\n",
    "            \"\"\"\n",
    "            try:\n",
    "                float(rows['prices']['usd'])\n",
    "                train_labels.append(rows['prices']['usd'])\n",
    "            except:\n",
    "                train_labels.append(0)\n",
    "            \"\"\"\n",
    "        else:\n",
    "            test_data.append(indices)\n",
    "            test_labels.append(rows['ability_score'])\n",
    "            \"\"\"\n",
    "            try:\n",
    "                float(rows['prices']['usd'])\n",
    "                test_labels.append(rows['prices']['usd'])\n",
    "            except:\n",
    "                test_labels.append(0)\n",
    "            \"\"\"\n",
    "    except:\n",
    "        continue"
   ]
  },
  {
   "cell_type": "code",
   "execution_count": 24,
   "metadata": {},
   "outputs": [],
   "source": [
    "# Convert data to NumPy arrays\n",
    "np_train_data = np.array(train_data)\n",
    "np_train_labels = np.array(train_labels)\n",
    "np_test_data = np.array(test_data)\n",
    "np_test_labels = np.array(test_labels)\n",
    "\n",
    "# Convert labels to floats\n",
    "np_train_labels = np_train_labels.astype(np.float)\n",
    "np_test_labels = np_test_labels.astype(np.float)"
   ]
  },
  {
   "cell_type": "code",
   "execution_count": 25,
   "metadata": {},
   "outputs": [],
   "source": [
    "# Normalize the labels between 0 and 1\n",
    "np_train_labels = np_train_labels/np_train_labels.max()\n",
    "np_test_labels = np_test_labels/np_test_labels.max()\n",
    "\n",
    "# Set each label to 0 or 1\n",
    "count = 0\n",
    "for a in np_train_labels:\n",
    "    # Adjust this value higher/lower to be more/less strict on what is considered good/bad\n",
    "    if a < .5:\n",
    "        np_train_labels[count] = 0\n",
    "    else:\n",
    "        np_train_labels[count] = 1\n",
    "    count += 1\n",
    "count = 0\n",
    "for a in np_test_labels:\n",
    "    # Adjust this value higher/lower to be more/less strict on what is considered good/bad\n",
    "    if a < .5:\n",
    "        np_test_labels[count] = 0\n",
    "    else:\n",
    "        np_test_labels[count] = 1\n",
    "    count += 1"
   ]
  },
  {
   "cell_type": "code",
   "execution_count": 26,
   "metadata": {},
   "outputs": [],
   "source": [
    "# This function will create a tensor that is 17537 by 5402. 17537 is the number of samples\n",
    "# and 5402 is the number of unique words. The tensor will have all zeros except for ones where that word is in the ability\n",
    "def vectorize_sequences(sequences, dimension=5402):\n",
    "    results = np.zeros((len(sequences), dimension))\n",
    "    for i, sequence in enumerate(sequences):\n",
    "        results[i, sequence] = 1.\n",
    "    return results"
   ]
  },
  {
   "cell_type": "code",
   "execution_count": 27,
   "metadata": {},
   "outputs": [],
   "source": [
    "# Apply the vectorize function to the train_data and test_data\n",
    "x_train = vectorize_sequences(np_train_data)\n",
    "x_test = vectorize_sequences(np_test_data)"
   ]
  },
  {
   "cell_type": "code",
   "execution_count": 28,
   "metadata": {},
   "outputs": [
    {
     "name": "stdout",
     "output_type": "stream",
     "text": [
      "(17537, 5402)\n",
      "[0. 1. 1. ... 0. 0. 0.]\n",
      "2\n"
     ]
    }
   ],
   "source": [
    "# View the train shape, values, and dimensions\n",
    "print(x_train.shape)\n",
    "print(x_train[0])\n",
    "print(x_train.ndim)"
   ]
  },
  {
   "cell_type": "code",
   "execution_count": 29,
   "metadata": {},
   "outputs": [],
   "source": [
    "y_train = np.asarray(np_train_labels).astype('float32')\n",
    "y_test = np.asarray(np_test_labels).astype('float32')"
   ]
  },
  {
   "cell_type": "code",
   "execution_count": 30,
   "metadata": {},
   "outputs": [],
   "source": [
    "x_train, x_val, y_train, y_val = train_test_split(x_train, y_train, test_size=0.25, random_state=42)"
   ]
  },
  {
   "cell_type": "code",
   "execution_count": 35,
   "metadata": {},
   "outputs": [
    {
     "name": "stdout",
     "output_type": "stream",
     "text": [
      "Train on 13152 samples, validate on 4385 samples\n",
      "Epoch 1/20\n",
      "13152/13152 [==============================] - 1s 110us/step - loss: 1.6304 - acc: 0.5528 - val_loss: 0.9497 - val_acc: 0.7802\n",
      "Epoch 2/20\n",
      "13152/13152 [==============================] - 1s 53us/step - loss: 0.9269 - acc: 0.7015 - val_loss: 0.7512 - val_acc: 0.9770\n",
      "Epoch 3/20\n",
      "13152/13152 [==============================] - 1s 53us/step - loss: 0.7340 - acc: 0.9319 - val_loss: 0.6449 - val_acc: 0.9966\n",
      "Epoch 4/20\n",
      "13152/13152 [==============================] - 1s 53us/step - loss: 0.6108 - acc: 0.9845 - val_loss: 0.5452 - val_acc: 0.9966\n",
      "Epoch 5/20\n",
      "13152/13152 [==============================] - 1s 53us/step - loss: 0.5076 - acc: 0.9948 - val_loss: 0.4768 - val_acc: 0.9966\n",
      "Epoch 6/20\n",
      "13152/13152 [==============================] - 1s 53us/step - loss: 0.4262 - acc: 0.9958 - val_loss: 0.4009 - val_acc: 0.9966\n"
     ]
    },
    {
     "data": {
      "image/png": "[encoded data removed]",
      "text/plain": [
       "<Figure size 432x288 with 1 Axes>"
      ]
     },
     "metadata": {
      "needs_background": "light"
     },
     "output_type": "display_data"
    },
    {
     "data": {
      "image/png": "[encoded data removed]",
      "text/plain": [
       "<Figure size 432x288 with 1 Axes>"
      ]
     },
     "metadata": {
      "needs_background": "light"
     },
     "output_type": "display_data"
    },
    {
     "name": "stdout",
     "output_type": "stream",
     "text": [
      "4015/4015 [==============================] - 0s 71us/step\n",
      "['loss', 'acc']\n",
      "[0.6462870415982096, 0.9952677459526774]\n"
     ]
    }
   ],
   "source": [
    "np.random.seed(42)\n",
    "backend.clear_session()\n",
    "model = models.Sequential()\n",
    "model.add(layers.Dense(16, activation = 'relu', kernel_regularizer = regularizers.l1_l2(l1 = 0.001, l2 = 0.001), input_shape = (5402,)))\n",
    "model.add(layers.Dropout(0.2))\n",
    "model.add(BatchNormalization())\n",
    "model.add(layers.Dense(16, kernel_regularizer = regularizers.l1_l2(l1 = 0.001, l2 = 0.001), activation = 'relu'))\n",
    "model.add(layers.Dropout(0.5))\n",
    "model.add(BatchNormalization())\n",
    "model.add(layers.Dense(1, activation = 'sigmoid'))\n",
    "model.compile(optimizer='adam',\n",
    "             loss = 'binary_crossentropy',\n",
    "             metrics = ['accuracy'])\n",
    "\n",
    "history = model.fit(x_train,\n",
    "                   y_train,\n",
    "                   epochs = 20,\n",
    "                   batch_size = 500,\n",
    "                   validation_data = (x_val, y_val),\n",
    "                   callbacks=[EarlyStopping(monitor='val_acc', patience=3, restore_best_weights = True)])\n",
    "\n",
    "history_dict = history.history\n",
    "loss_values = history_dict['loss']\n",
    "val_loss_values = history_dict['val_loss']\n",
    "acc_values = history_dict['acc']\n",
    "val_acc_values = history_dict['val_acc']\n",
    "epochs = range(1, len(history_dict['acc']) + 1)\n",
    "\n",
    "plt.plot(epochs, loss_values, 'bo', label = 'Training loss')\n",
    "plt.plot(epochs, val_loss_values, 'b', label = 'Validation loss')\n",
    "plt.title('Training and validation loss')\n",
    "plt.xlabel('Epochs')\n",
    "plt.ylabel('Loss')\n",
    "plt.legend()\n",
    "plt.show()\n",
    "\n",
    "plt.plot(epochs, acc_values, 'bo', label = 'Training accuracy')\n",
    "plt.plot(epochs, val_acc_values, 'b', label = 'Validation accuracy')\n",
    "plt.title('Training and validation accuracy')\n",
    "plt.xlabel('Epochs')\n",
    "plt.ylabel('Accuracy')\n",
    "plt.legend()\n",
    "plt.show()\n",
    "\n",
    "results = model.evaluate(x_test, y_test)\n",
    "print(model.metrics_names)\n",
    "print(results)"
   ]
  },
  {
   "cell_type": "markdown",
   "metadata": {},
   "source": [
    "### Another method found here\n",
    "##### https://machinelearningmastery.com/use-word-embedding-layers-deep-learning-keras/"
   ]
  },
  {
   "cell_type": "code",
   "execution_count": 5,
   "metadata": {},
   "outputs": [],
   "source": [
    "docs = df['oracle_text'].copy()"
   ]
  },
  {
   "cell_type": "code",
   "execution_count": 6,
   "metadata": {},
   "outputs": [
    {
     "data": {
      "text/plain": [
       "\"As long as Static Orb is untapped, players can't untap more than two permanents during their untap steps.\""
      ]
     },
     "execution_count": 6,
     "metadata": {},
     "output_type": "execute_result"
    }
   ],
   "source": [
    "docs[0]"
   ]
  },
  {
   "cell_type": "code",
   "execution_count": 7,
   "metadata": {},
   "outputs": [],
   "source": [
    "# Convert all non-str values into empty strings\n",
    "count = 0\n",
    "for a in docs:\n",
    "    try:\n",
    "        a.lower()\n",
    "    except:\n",
    "        docs[count] = ''\n",
    "    finally:\n",
    "        count += 1"
   ]
  },
  {
   "cell_type": "code",
   "execution_count": 14,
   "metadata": {},
   "outputs": [],
   "source": [
    "# Define labels\n",
    "labels = df['ability_score'].copy()\n",
    "\n",
    "# Normalize the labels between 0 and 1\n",
    "labels = labels/labels.max()\n",
    "\n",
    "# Set each label to 0 or 1\n",
    "count = 0\n",
    "for a in labels:\n",
    "    # Adjust this value higher/lower to be more/less strict on what is considered good/bad\n",
    "    if a < .5:\n",
    "        labels[count] = 0\n",
    "    else:\n",
    "        labels[count] = 1\n",
    "    count += 1"
   ]
  },
  {
   "cell_type": "code",
   "execution_count": 15,
   "metadata": {},
   "outputs": [
    {
     "name": "stderr",
     "output_type": "stream",
     "text": [
      "WARNING: Logging before flag parsing goes to stderr.\n",
      "W0927 10:59:57.046233 16296 deprecation_wrapper.py:119] From C:\\Users\\Taylor\\Anaconda3\\lib\\site-packages\\keras\\backend\\tensorflow_backend.py:66: The name tf.get_default_graph is deprecated. Please use tf.compat.v1.get_default_graph instead.\n",
      "\n",
      "W0927 10:59:57.058168 16296 deprecation_wrapper.py:119] From C:\\Users\\Taylor\\Anaconda3\\lib\\site-packages\\keras\\backend\\tensorflow_backend.py:541: The name tf.placeholder is deprecated. Please use tf.compat.v1.placeholder instead.\n",
      "\n",
      "W0927 10:59:57.060194 16296 deprecation_wrapper.py:119] From C:\\Users\\Taylor\\Anaconda3\\lib\\site-packages\\keras\\backend\\tensorflow_backend.py:4432: The name tf.random_uniform is deprecated. Please use tf.random.uniform instead.\n",
      "\n",
      "W0927 10:59:57.082134 16296 deprecation_wrapper.py:119] From C:\\Users\\Taylor\\Anaconda3\\lib\\site-packages\\keras\\optimizers.py:793: The name tf.train.Optimizer is deprecated. Please use tf.compat.v1.train.Optimizer instead.\n",
      "\n",
      "W0927 10:59:57.098091 16296 deprecation_wrapper.py:119] From C:\\Users\\Taylor\\Anaconda3\\lib\\site-packages\\keras\\backend\\tensorflow_backend.py:3657: The name tf.log is deprecated. Please use tf.math.log instead.\n",
      "\n",
      "W0927 10:59:57.101052 16296 deprecation.py:323] From C:\\Users\\Taylor\\Anaconda3\\lib\\site-packages\\tensorflow\\python\\ops\\nn_impl.py:180: add_dispatch_support.<locals>.wrapper (from tensorflow.python.ops.array_ops) is deprecated and will be removed in a future version.\n",
      "Instructions for updating:\n",
      "Use tf.where in 2.0, which has the same broadcast rule as np.where\n",
      "W0927 10:59:57.337450 16296 deprecation_wrapper.py:119] From C:\\Users\\Taylor\\Anaconda3\\lib\\site-packages\\keras\\backend\\tensorflow_backend.py:1033: The name tf.assign_add is deprecated. Please use tf.compat.v1.assign_add instead.\n",
      "\n"
     ]
    },
    {
     "name": "stdout",
     "output_type": "stream",
     "text": [
      "Accuracy: 99.981753\n"
     ]
    }
   ],
   "source": [
    "# Vocab size should be greater than number of unique words to prevent collisions\n",
    "vocab_size = 5000\n",
    "encoded_docs = [one_hot(d, vocab_size) for d in docs]\n",
    "# Max Length is maximum number of words allowed in an ability\n",
    "max_length = 20\n",
    "padded_docs = pad_sequences(encoded_docs, maxlen=max_length, padding='post')\n",
    "# define the model\n",
    "model = Sequential()\n",
    "# 16 is the dimensions (features/attributes) for a specific document\n",
    "model.add(Embedding(vocab_size, 16, input_length=max_length))\n",
    "model.add(Flatten())\n",
    "model.add(Dense(1, activation='sigmoid'))\n",
    "# compile the model\n",
    "model.compile(optimizer='adam', loss='binary_crossentropy', metrics=['accuracy'])\n",
    "# fit the model\n",
    "model.fit(padded_docs, labels, epochs=50, verbose=0)\n",
    "# evaluate the model\n",
    "loss, accuracy = model.evaluate(padded_docs, labels, verbose=0)\n",
    "print('Accuracy: %f' % (accuracy*100))"
   ]
  },
  {
   "cell_type": "code",
   "execution_count": null,
   "metadata": {},
   "outputs": [],
   "source": []
  }
 ],
 "metadata": {
  "kernelspec": {
   "display_name": "Python 3",
   "language": "python",
   "name": "python3"
  },
  "language_info": {
   "codemirror_mode": {
    "name": "ipython",
    "version": 3
   },
   "file_extension": ".py",
   "mimetype": "text/x-python",
   "name": "python",
   "nbconvert_exporter": "python",
   "pygments_lexer": "ipython3",
   "version": "3.7.1"
  }
 },
 "nbformat": 4,
 "nbformat_minor": 2
}
