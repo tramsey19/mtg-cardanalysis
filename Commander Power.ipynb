{
 "cells": [
  {
   "cell_type": "code",
   "execution_count": 1,
   "metadata": {},
   "outputs": [],
   "source": [
    "import pandas as pd\n",
    "import os"
   ]
  },
  {
   "cell_type": "code",
   "execution_count": 2,
   "metadata": {},
   "outputs": [],
   "source": [
    "# Both the abilities file and the typerank are highly subjective.  They were created using a combination of ngrams \n",
    "# as well as my own personal knowledge of the game.  These should be modified as you see fit.\n",
    "dfabilities = pd.read_csv('abilities',header=None,names=['ability','rank'])\n",
    "typerank = {'Enchantment':9,'Artifact':8,'Planeswalker':7,'Creature':5,'Instant':7,'Sorcery':1,'Land':10}"
   ]
  },
  {
   "cell_type": "code",
   "execution_count": 8,
   "metadata": {},
   "outputs": [],
   "source": [
    "def commanderPower(powerList, DecklistDir, skipFile):\n",
    "    for subdir,dirs,files in os.walk(DecklistDir):\n",
    "        for file in files:\n",
    "            if skipFile in file:\n",
    "                continue\n",
    "            deck = pd.read_csv(os.path.join(subdir,file))\n",
    "            for dfindex,dfrows in deck.iterrows():\n",
    "                ability_sum = 0\n",
    "                for abilindex,abilrows in dfabilities.iterrows():\n",
    "                    try:\n",
    "                        if dfrows['oracle_text'].lower().find(abilrows['ability'].lower()) > -1:\n",
    "                            ability_sum += abilrows['rank']\n",
    "                    except:\n",
    "                        continue\n",
    "                deck.at[dfindex,'ability_score'] = ability_sum\n",
    "\n",
    "            dfclean = deck[['cmc','type_line','loyalty','power','toughness','ability_score']].copy()\n",
    "            for index,rows in dfclean.iterrows():\n",
    "                typeline = rows['type_line']\n",
    "                typewords = typeline.split()\n",
    "                flag = True\n",
    "                for a in typewords:\n",
    "                    if a in typerank.keys():\n",
    "                        dfclean.at[index,'type_line'] = typerank[a]\n",
    "                        flag = False\n",
    "                if flag:\n",
    "                    dfclean.at[index,'type_line'] = 0\n",
    "            dfclean=dfclean.fillna(0)\n",
    "\n",
    "            # Variables like * and X need to be converted to integers\n",
    "            for index,rows in dfclean.iterrows():\n",
    "                if '*' in str(rows['loyalty']) or rows['loyalty'] == 'X':\n",
    "                    dfclean.at[index,'loyalty']=0\n",
    "                if '*' in str(rows['power']) or rows['power'] == 'X':\n",
    "                    dfclean.at[index,'power']=0\n",
    "                if '*' in str(rows['toughness']) or rows['toughness'] == 'X':\n",
    "                    dfclean.at[index,'toughness']=0\n",
    "\n",
    "            # Columns need to be converted to ints\n",
    "            dfclean['power'] = dfclean['power'].astype(int)\n",
    "            dfclean['toughness'] = dfclean['toughness'].astype(int)\n",
    "            dfclean['loyalty'] = dfclean['loyalty'].astype(int)\n",
    "\n",
    "            # Normalize values by dividing by max\n",
    "            dfclean['ability_score'] = dfclean['ability_score']/dfclean.apply(max)['ability_score']\n",
    "            dfclean['type_line'] = dfclean['type_line']/dfclean.apply(max)['type_line']\n",
    "            dfclean['loyalty'] = dfclean['loyalty']/dfclean.apply(max)['loyalty']\n",
    "            dfclean['power'] = dfclean['power']/dfclean.apply(max)['power']\n",
    "            dfclean['toughness'] = dfclean['toughness']/dfclean.apply(max)['toughness']\n",
    "            dfclean['cmc'] = 1/(dfclean['cmc']+1)\n",
    "            dfclean=dfclean.fillna(0)\n",
    "\n",
    "            dfclean['card_power']=dfclean.sum(axis=1)/dfclean.astype(bool).sum(axis=1)\n",
    "\n",
    "            powerList.append(dfclean['card_power'].sum())"
   ]
  },
  {
   "cell_type": "code",
   "execution_count": 100,
   "metadata": {},
   "outputs": [],
   "source": [
    "atraxa = []\n",
    "commanderPower(atraxa,'Decklists/atraxa-praetors-voice/','atraxa-praetors-voice.csv')"
   ]
  },
  {
   "cell_type": "code",
   "execution_count": 101,
   "metadata": {},
   "outputs": [
    {
     "data": {
      "image/png": "[encoded data removed]",
      "text/plain": [
       "<Figure size 432x288 with 1 Axes>"
      ]
     },
     "metadata": {
      "needs_background": "light"
     },
     "output_type": "display_data"
    }
   ],
   "source": [
    "binsize = (max(atraxa)-min(atraxa))/5\n",
    "bins = [int(min(atraxa)), int(min(atraxa)+binsize), int(min(atraxa)+2*binsize),\n",
    "        int(min(atraxa)+3*binsize), int(min(atraxa)+4*binsize), int(max(atraxa))]\n",
    "out = pd.cut(atraxa, bins=bins, include_lowest=True)\n",
    "ax = out.value_counts().plot.bar(rot=0,color=\"b\", figsize=(6,4))"
   ]
  },
  {
   "cell_type": "code",
   "execution_count": 9,
   "metadata": {},
   "outputs": [],
   "source": [
    "breya = []\n",
    "commanderPower(breya, 'Decklists/breya-etherium-shaper/','breya-etherium-shaper.csv')\n",
    "\n",
    "binsize = (max(breya)-min(breya))/5\n",
    "bins = [int(min(breya)), int(min(breya)+binsize), int(min(breya)+2*binsize),\n",
    "        int(min(breya)+3*binsize), int(min(breya)+4*binsize), int(max(breya))]\n",
    "out = pd.cut(breya, bins=bins, include_lowest=True)\n",
    "ax = out.value_counts().plot.bar(rot=0,color=\"b\", figsize=(6,4))"
   ]
  },
  {
   "cell_type": "code",
   "execution_count": 14,
   "metadata": {},
   "outputs": [
    {
     "data": {
      "image/png": "[encoded data removed]",
      "text/plain": [
       "<Figure size 432x288 with 1 Axes>"
      ]
     },
     "metadata": {
      "needs_background": "light"
     },
     "output_type": "display_data"
    }
   ],
   "source": [
    "binsize = (max(breya)-min(breya))/5\n",
    "bins = [int(min(breya)), int(min(breya)+binsize), int(min(breya)+2*binsize),\n",
    "        int(min(breya)+3*binsize), int(min(breya)+4*binsize), int(max(breya))]\n",
    "out = pd.cut(breya, bins=bins, include_lowest=True)\n",
    "ax = out.value_counts().plot.bar(rot=0,color=\"b\", figsize=(6,4))"
   ]
  },
  {
   "cell_type": "code",
   "execution_count": 10,
   "metadata": {},
   "outputs": [
    {
     "data": {
      "image/png": "[encoded data removed]",
      "text/plain": [
       "<Figure size 432x288 with 1 Axes>"
      ]
     },
     "metadata": {
      "needs_background": "light"
     },
     "output_type": "display_data"
    }
   ],
   "source": [
    "lyra = []\n",
    "commanderPower(lyra, 'Decklists/lyra-dawnbringer/','lyra-dawnbringer.csv')\n",
    "\n",
    "binsize = (max(lyra)-min(lyra))/5\n",
    "bins = [int(min(lyra)), int(min(lyra)+binsize), int(min(lyra)+2*binsize),\n",
    "        int(min(lyra)+3*binsize), int(min(lyra)+4*binsize), int(max(lyra))]\n",
    "out = pd.cut(lyra, bins=bins, include_lowest=True)\n",
    "ax = out.value_counts().plot.bar(rot=0,color=\"b\", figsize=(6,4))"
   ]
  },
  {
   "cell_type": "code",
   "execution_count": 11,
   "metadata": {},
   "outputs": [
    {
     "data": {
      "image/png": "[encoded data removed]",
      "text/plain": [
       "<Figure size 432x288 with 1 Axes>"
      ]
     },
     "metadata": {
      "needs_background": "light"
     },
     "output_type": "display_data"
    }
   ],
   "source": [
    "karador = []\n",
    "commanderPower(karador, 'Decklists/karador-ghost-chieftain/','karador-ghost-chieftain.csv')\n",
    "\n",
    "binsize = (max(karador)-min(karador))/5\n",
    "bins = [int(min(karador)), int(min(karador)+binsize), int(min(karador)+2*binsize),\n",
    "        int(min(karador)+3*binsize), int(min(karador)+4*binsize), int(max(karador))]\n",
    "out = pd.cut(karador, bins=bins, include_lowest=True)\n",
    "ax = out.value_counts().plot.bar(rot=0,color=\"b\", figsize=(6,4))"
   ]
  },
  {
   "cell_type": "code",
   "execution_count": 12,
   "metadata": {},
   "outputs": [
    {
     "data": {
      "image/png": "[encoded data removed]",
      "text/plain": [
       "<Figure size 432x288 with 1 Axes>"
      ]
     },
     "metadata": {
      "needs_background": "light"
     },
     "output_type": "display_data"
    }
   ],
   "source": [
    "locust = []\n",
    "commanderPower(locust, 'Decklists/the-locust-god/','the-locust-god.csv')\n",
    "\n",
    "binsize = (max(locust)-min(locust))/5\n",
    "bins = [int(min(locust)), int(min(locust)+binsize), int(min(locust)+2*binsize),\n",
    "        int(min(locust)+3*binsize), int(min(locust)+4*binsize), int(max(locust))]\n",
    "out = pd.cut(locust, bins=bins, include_lowest=True)\n",
    "ax = out.value_counts().plot.bar(rot=0,color=\"b\", figsize=(6,4))"
   ]
  },
  {
   "cell_type": "code",
   "execution_count": 13,
   "metadata": {},
   "outputs": [
    {
     "data": {
      "image/png": "[encoded data removed]",
      "text/plain": [
       "<Figure size 432x288 with 1 Axes>"
      ]
     },
     "metadata": {
      "needs_background": "light"
     },
     "output_type": "display_data"
    }
   ],
   "source": [
    "sram = [] \n",
    "commanderPower(sram, 'Decklists/sram-senior-edificer/','sram-senior-edificer.csv')\n",
    "\n",
    "binsize = (max(sram)-min(sram))/5\n",
    "bins = [int(min(sram)), int(min(sram)+binsize), int(min(sram)+2*binsize),\n",
    "        int(min(sram)+3*binsize), int(min(sram)+4*binsize), int(max(sram))]\n",
    "out = pd.cut(sram, bins=bins, include_lowest=True)\n",
    "ax = out.value_counts().plot.bar(rot=0,color=\"b\", figsize=(6,4))"
   ]
  },
  {
   "cell_type": "code",
   "execution_count": null,
   "metadata": {},
   "outputs": [],
   "source": []
  }
 ],
 "metadata": {
  "kernelspec": {
   "display_name": "Python 3",
   "language": "python",
   "name": "python3"
  },
  "language_info": {
   "codemirror_mode": {
    "name": "ipython",
    "version": 3
   },
   "file_extension": ".py",
   "mimetype": "text/x-python",
   "name": "python",
   "nbconvert_exporter": "python",
   "pygments_lexer": "ipython3",
   "version": "3.6.8"
  }
 },
 "nbformat": 4,
 "nbformat_minor": 2
}
