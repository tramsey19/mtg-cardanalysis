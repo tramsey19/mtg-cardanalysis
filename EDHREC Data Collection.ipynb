{
 "cells": [
  {
   "cell_type": "code",
   "execution_count": 1,
   "metadata": {},
   "outputs": [],
   "source": [
    "import os \n",
    "import requests\n",
    "import pandas as pd\n",
    "from pandas import json_normalize\n",
    "from bs4 import BeautifulSoup as bs\n",
    "import time"
   ]
  },
  {
   "cell_type": "code",
   "execution_count": 26,
   "metadata": {},
   "outputs": [],
   "source": [
    "# Gather GUIDs for decks from commanders.csv\n",
    "df = pd.read_csv('commanders.csv',header=None)\n",
    "\n",
    "url = 'https://edhrec-json.s3.amazonaws.com/en/listofdecks/'\n",
    "for index,rows in df.iterrows():\n",
    "    path = 'Decklists\\\\' + rows[0] +'\\\\'\n",
    "    os.mkdir(path)\n",
    "    \n",
    "    req = url + rows[0] + '.json'\n",
    "    water = requests.get(req)\n",
    "    soup = bs(water.content)\n",
    "    \n",
    "    with open(path+rows[0]+'.csv','wb') as file:\n",
    "        for a in soup.find_all('a', href=True):\n",
    "            file.write(a['href'].replace('\\\\\"/deckpreview/','').replace('\\\\\"','\\r\\n').encode('utf-8'))"
   ]
  },
  {
   "cell_type": "code",
   "execution_count": 2,
   "metadata": {},
   "outputs": [],
   "source": [
    "# Change GUID for each deck\n",
    "edhrec = 'https://edhrec.com/api/deckpreview/'\n",
    "\n",
    "scryfall = 'https://api.scryfall.com/cards/collection'"
   ]
  },
  {
   "cell_type": "code",
   "execution_count": 10,
   "metadata": {},
   "outputs": [],
   "source": [
    "for subdir,dirs,files in os.walk('Decklists\\\\'):\n",
    "    commander = subdir.replace('Decklists\\\\','')\n",
    "    savepath = subdir + '\\\\'\n",
    "    for file in files:\n",
    "        df = pd.read_csv(os.path.join(subdir,file),header=None)\n",
    "        for index,rows in df.iterrows():\n",
    "            url = edhrec + rows[0]\n",
    "            arr = []\n",
    "            arr2 = []\n",
    "            headers = {'Content-Type':'application/json'}\n",
    "            cols = ['name', 'mana_cost', 'cmc', 'type_line', 'oracle_text', 'colors', 'color_identity', 'keywords',\n",
    "                   'rarity', 'edhrec_rank', 'prices.usd', 'prices.usd_foil','produced_mana','loyalty', 'power', 'toughness']\n",
    "\n",
    "            res = requests.get(url)\n",
    "\n",
    "            for a in res.json()['cards']:\n",
    "                obj = {'name':a}\n",
    "                if len(arr) < 50:\n",
    "                    arr.append(obj)\n",
    "                else:\n",
    "                    arr2.append(obj)\n",
    "\n",
    "            ident1 = {'identifiers':arr}\n",
    "            ident2 = {'identifiers':arr2}\n",
    "\n",
    "            res2 = requests.post(scryfall,json=ident1,headers=headers)\n",
    "            dFirst = json_normalize(res2.json()['data'])\n",
    "            time.sleep(.1)\n",
    "            if (len(arr2)>0):\n",
    "                res3 = requests.post(scryfall,json=ident2,headers=headers)\n",
    "                dSec = json_normalize(res3.json()['data'])\n",
    "                df = pd.concat([dFirst,dSec],ignore_index=True)\n",
    "            else:\n",
    "                df = dFirst\n",
    "\n",
    "            for b in cols:\n",
    "                if b in dFirst.columns:\n",
    "                    continue\n",
    "                else:\n",
    "                    df[b] = ''\n",
    "                    \n",
    "            df = df[cols]\n",
    "            savename = commander +'-'+ rows[0]\n",
    "            df.to_csv(savepath+savename+'.csv')"
   ]
  },
  {
   "cell_type": "code",
   "execution_count": null,
   "metadata": {},
   "outputs": [],
   "source": []
  }
 ],
 "metadata": {
  "kernelspec": {
   "display_name": "Python 3",
   "language": "python",
   "name": "python3"
  },
  "language_info": {
   "codemirror_mode": {
    "name": "ipython",
    "version": 3
   },
   "file_extension": ".py",
   "mimetype": "text/x-python",
   "name": "python",
   "nbconvert_exporter": "python",
   "pygments_lexer": "ipython3",
   "version": "3.7.1"
  }
 },
 "nbformat": 4,
 "nbformat_minor": 2
}
