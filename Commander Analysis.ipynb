{
 "cells": [
  {
   "cell_type": "code",
   "execution_count": 1,
   "metadata": {},
   "outputs": [],
   "source": [
    "import pandas as pd\n",
    "import os"
   ]
  },
  {
   "cell_type": "code",
   "execution_count": 2,
   "metadata": {},
   "outputs": [],
   "source": [
    "# Both the abilities file and the typerank are highly subjective.  They were created using a combination of ngrams \n",
    "# as well as my own personal knowledge of the game.  These should be modified as you see fit.\n",
    "dfabilities = pd.read_csv('abilities',header=None,names=['ability','rank'])\n",
    "typerank = {'Enchantment':9,'Artifact':8,'Planeswalker':7,'Creature':5,'Instant':7,'Sorcery':1,'Land':10}"
   ]
  },
  {
   "cell_type": "code",
   "execution_count": 3,
   "metadata": {},
   "outputs": [],
   "source": [
    "atraxa = []\n",
    "for subdir,dirs,files in os.walk('Decklists/atraxa-praetors-voice/'):\n",
    "    for file in files:\n",
    "        deck = pd.read_csv(os.path.join(subdir,file))\n",
    "        for dfindex,dfrows in deck.iterrows():\n",
    "            ability_sum = 0\n",
    "            for abilindex,abilrows in dfabilities.iterrows():\n",
    "                try:\n",
    "                    if dfrows['oracle_text'].lower().find(abilrows['ability'].lower()) > -1:\n",
    "                        ability_sum += abilrows['rank']\n",
    "                except:\n",
    "                    continue\n",
    "            deck.at[dfindex,'ability_score'] = ability_sum\n",
    "            \n",
    "        dfclean = deck[['cmc','type_line','loyalty','power','toughness','ability_score']].copy()\n",
    "        for index,rows in dfclean.iterrows():\n",
    "            typeline = rows['type_line']\n",
    "            typewords = typeline.split()\n",
    "            flag = True\n",
    "            for a in typewords:\n",
    "                if a in typerank.keys():\n",
    "                    dfclean.at[index,'type_line'] = typerank[a]\n",
    "                    flag = False\n",
    "            if flag:\n",
    "                dfclean.at[index,'type_line'] = 0\n",
    "        dfclean=dfclean.fillna(0)\n",
    "        \n",
    "        # Variables like * and X need to be converted to integers\n",
    "        for index,rows in dfclean.iterrows():\n",
    "            if rows['loyalty'] == '*' or rows['loyalty'] == 'X':\n",
    "                dfclean.at[index,'loyalty']=0\n",
    "            if rows['power'] == '*' or rows['power'] == 'X':\n",
    "                dfclean.at[index,'power']=0\n",
    "            if rows['toughness'] == '*' or rows['toughness'] == 'X':\n",
    "                dfclean.at[index,'toughness']=0\n",
    "        \n",
    "        # Columns need to be converted to ints\n",
    "        dfclean['power'] = dfclean['power'].astype(int)\n",
    "        dfclean['toughness'] = dfclean['toughness'].astype(int)\n",
    "        dfclean['loyalty'] = dfclean['loyalty'].astype(int)\n",
    "        \n",
    "        # Normalize values by dividing by max\n",
    "        dfclean['ability_score'] = dfclean['ability_score']/dfclean.apply(max)['ability_score']\n",
    "        dfclean['type_line'] = dfclean['type_line']/dfclean.apply(max)['type_line']\n",
    "        dfclean['loyalty'] = dfclean['loyalty']/dfclean.apply(max)['loyalty']\n",
    "        dfclean['power'] = dfclean['power']/dfclean.apply(max)['power']\n",
    "        dfclean['toughness'] = dfclean['toughness']/dfclean.apply(max)['toughness']\n",
    "        dfclean['cmc'] = 1/dfclean.apply(max)['cmc']\n",
    "        dfclean=dfclean.fillna(0)\n",
    "        \n",
    "        dfclean['card_power']=dfclean.sum(axis=1)/dfclean.astype(bool).sum(axis=1)\n",
    "        \n",
    "        atraxa.append(dfclean['card_power'].sum())"
   ]
  },
  {
   "cell_type": "code",
   "execution_count": 4,
   "metadata": {},
   "outputs": [
    {
     "data": {
      "text/plain": [
       "38.26348639890193"
      ]
     },
     "execution_count": 4,
     "metadata": {},
     "output_type": "execute_result"
    }
   ],
   "source": [
    "sum(atraxa)/len(atraxa)"
   ]
  },
  {
   "cell_type": "code",
   "execution_count": 6,
   "metadata": {},
   "outputs": [],
   "source": [
    "atraxa_deck = []\n",
    "deck = pd.read_csv('Decklists/atraxa-praetors-voice/atraxa-praetors-voice-_8jvd3UZ9N5nKc8mczqkxw.csv')\n",
    "for dfindex,dfrows in deck.iterrows():\n",
    "    ability_sum = 0\n",
    "    for abilindex,abilrows in dfabilities.iterrows():\n",
    "        try:\n",
    "            if dfrows['oracle_text'].lower().find(abilrows['ability'].lower()) > -1:\n",
    "                ability_sum += abilrows['rank']\n",
    "        except:\n",
    "            continue\n",
    "    deck.at[dfindex,'ability_score'] = ability_sum\n",
    "\n",
    "dfclean = deck[['cmc','type_line','loyalty','power','toughness','ability_score']].copy()\n",
    "for index,rows in dfclean.iterrows():\n",
    "    typeline = rows['type_line']\n",
    "    typewords = typeline.split()\n",
    "    flag = True\n",
    "    for a in typewords:\n",
    "        if a in typerank.keys():\n",
    "            dfclean.at[index,'type_line'] = typerank[a]\n",
    "            flag = False\n",
    "    if flag:\n",
    "        dfclean.at[index,'type_line'] = 0\n",
    "dfclean=dfclean.fillna(0)\n",
    "\n",
    "# Variables like * and X need to be converted to integers\n",
    "for index,rows in dfclean.iterrows():\n",
    "    if rows['loyalty'] == '*' or rows['loyalty'] == 'X':\n",
    "        dfclean.at[index,'loyalty']=0\n",
    "    if rows['power'] == '*' or rows['power'] == 'X':\n",
    "        dfclean.at[index,'power']=0\n",
    "    if rows['toughness'] == '*' or rows['toughness'] == 'X':\n",
    "        dfclean.at[index,'toughness']=0\n",
    "\n",
    "# Columns need to be converted to ints\n",
    "dfclean['power'] = dfclean['power'].astype(int)\n",
    "dfclean['toughness'] = dfclean['toughness'].astype(int)\n",
    "dfclean['loyalty'] = dfclean['loyalty'].astype(int)\n",
    "\n",
    "# Normalize values by dividing by max\n",
    "dfclean['ability_score'] = dfclean['ability_score']/dfclean.apply(max)['ability_score']\n",
    "dfclean['type_line'] = dfclean['type_line']/dfclean.apply(max)['type_line']\n",
    "dfclean['loyalty'] = dfclean['loyalty']/dfclean.apply(max)['loyalty']\n",
    "dfclean['power'] = dfclean['power']/dfclean.apply(max)['power']\n",
    "dfclean['toughness'] = dfclean['toughness']/dfclean.apply(max)['toughness']\n",
    "dfclean['cmc'] = 1/dfclean.apply(max)['cmc']\n",
    "dfclean=dfclean.fillna(0)\n",
    "\n",
    "dfclean['card_power']=dfclean.sum(axis=1)/dfclean.astype(bool).sum(axis=1)\n",
    "\n",
    "atraxa_deck.append(dfclean['card_power'].sum())"
   ]
  },
  {
   "cell_type": "code",
   "execution_count": 7,
   "metadata": {},
   "outputs": [
    {
     "data": {
      "text/plain": [
       "34.587852564102555"
      ]
     },
     "execution_count": 7,
     "metadata": {},
     "output_type": "execute_result"
    }
   ],
   "source": [
    "sum(atraxa_deck)/len(atraxa_deck)"
   ]
  },
  {
   "cell_type": "code",
   "execution_count": 12,
   "metadata": {},
   "outputs": [
    {
     "name": "stdout",
     "output_type": "stream",
     "text": [
      "Average Atraxa deck power: 38.26\n",
      "Selected deck power: 34.59\n"
     ]
    }
   ],
   "source": [
    "print(f'Average Atraxa deck power: {round(sum(atraxa)/len(atraxa),2)}')\n",
    "print(f'Selected deck power: {round(sum(atraxa_deck)/len(atraxa_deck),2)}')"
   ]
  },
  {
   "cell_type": "code",
   "execution_count": null,
   "metadata": {},
   "outputs": [],
   "source": []
  }
 ],
 "metadata": {
  "kernelspec": {
   "display_name": "Python 3",
   "language": "python",
   "name": "python3"
  },
  "language_info": {
   "codemirror_mode": {
    "name": "ipython",
    "version": 3
   },
   "file_extension": ".py",
   "mimetype": "text/x-python",
   "name": "python",
   "nbconvert_exporter": "python",
   "pygments_lexer": "ipython3",
   "version": "3.7.1"
  }
 },
 "nbformat": 4,
 "nbformat_minor": 2
}
